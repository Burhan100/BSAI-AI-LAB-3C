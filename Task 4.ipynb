{
 "cells": [
  {
   "cell_type": "code",
   "execution_count": 1,
   "id": "68a2b72d",
   "metadata": {},
   "outputs": [
    {
     "name": "stdout",
     "output_type": "stream",
     "text": [
      "h e y m a n h e y m a n "
     ]
    }
   ],
   "source": [
    "string = \"hey man , hey man , ! , @ , # , $ , % , ^ , & , * , ( , ) , _ , - , + , = , { , } , [ , ] , | , \\\\ , : , ; , ' , \\\" , < , > , , , . , ? , /\"\n",
    "\n",
    "for char in string:\n",
    "    if char.isalpha(): \n",
    "        print(char, end=\" \")\n",
    "\n"
   ]
  },
  {
   "cell_type": "code",
   "execution_count": 2,
   "id": "d2695c47",
   "metadata": {},
   "outputs": [
    {
     "name": "stdout",
     "output_type": "stream",
     "text": [
      "Sorted string is:          2AIILMaaadddeefimnnnnorsttuy\n",
      "Sorted words are: 2nd AI I ML am and in of student year\n"
     ]
    }
   ],
   "source": [
    "s = \"I am student of 2nd year in AI and ML\" \n",
    "chars = list(s)\n",
    "\n",
    "for i in range(len(chars)):\n",
    "    for j in range(len(chars) - i - 1):\n",
    "        if chars[j] > chars[j + 1]:\n",
    "            chars[j], chars[j + 1] = chars[j + 1], chars[j]\n",
    "\n",
    "sorted_str = \"\".join(chars)\n",
    "print(\"Sorted string is:\", sorted_str)\n",
    "\n",
    "words = s.split()\n",
    "for i in range(len(words)):\n",
    "    for j in range(len(words) - i - 1):\n",
    "        if words[j] > words[j + 1]:\n",
    "            words[j], words[j + 1] = words[j + 1], words[j]\n",
    "sorted_words = \" \".join(words)\n",
    "print(\"Sorted words are:\", sorted_words)\n",
    "\n"
   ]
  },
  {
   "cell_type": "code",
   "execution_count": 4,
   "id": "590280af",
   "metadata": {},
   "outputs": [
    {
     "name": "stdout",
     "output_type": "stream",
     "text": [
      "5896083728759274817 is not a valid number \n"
     ]
    }
   ],
   "source": [
    "def num_check(number):\n",
    "    number = str(number)\n",
    "    total = 0\n",
    "    reverse_digits = number[::-1]\n",
    "\n",
    "    for i, digit in enumerate(reverse_digits):\n",
    "        n = int(digit)\n",
    "        if i % 2 == 1:  \n",
    "            n *= 2\n",
    "            if n > 9:\n",
    "                n -= 9\n",
    "        total += n\n",
    "\n",
    "    return total % 10 == 0\n",
    "\n",
    "\n",
    "num = \"5896083728759274817\"\n",
    "if num_check(num):\n",
    "    print(f\"{num} is a valid number \")\n",
    "else:\n",
    "    print(f\"{num} is not a valid number \")\n"
   ]
  }
 ],
 "metadata": {
  "kernelspec": {
   "display_name": "Python 3",
   "language": "python",
   "name": "python3"
  },
  "language_info": {
   "codemirror_mode": {
    "name": "ipython",
    "version": 3
   },
   "file_extension": ".py",
   "mimetype": "text/x-python",
   "name": "python",
   "nbconvert_exporter": "python",
   "pygments_lexer": "ipython3",
   "version": "3.13.7"
  }
 },
 "nbformat": 4,
 "nbformat_minor": 5
}
