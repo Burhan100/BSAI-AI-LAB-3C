{
 "cells": [
  {
   "cell_type": "code",
   "execution_count": 1,
   "id": "575e231b",
   "metadata": {},
   "outputs": [
    {
     "name": "stdout",
     "output_type": "stream",
     "text": [
      "A B C D E F "
     ]
    }
   ],
   "source": [
    "def bfs_without_queue(graph, start):\n",
    "    visited = set()\n",
    "    container = [start] \n",
    "    while container:\n",
    "        vertex = container[0]\n",
    "        container = container[1:] \n",
    "        if vertex not in visited:\n",
    "            print(vertex, end=\" \")\n",
    "            visited.add(vertex)\n",
    "\n",
    "            for neighbor in graph[vertex]:\n",
    "                if neighbor not in visited:\n",
    "                    container.append(neighbor)\n",
    "\n",
    "graph = {\n",
    "    'A': ['B', 'C'],\n",
    "    'B': ['D', 'E'],\n",
    "    'C': ['F'],\n",
    "    'D': [],\n",
    "    'E': ['F'],\n",
    "    'F': []\n",
    "}\n",
    "\n",
    "bfs_without_queue(graph,'A')"
   ]
  },
  {
   "cell_type": "code",
   "execution_count": 2,
   "id": "2779c50c",
   "metadata": {},
   "outputs": [
    {
     "name": "stdout",
     "output_type": "stream",
     "text": [
      "A B C D E F "
     ]
    }
   ],
   "source": [
    "def bfs(graph, start):\n",
    "    visited = set()\n",
    "    queue = [start]  \n",
    "    while queue:\n",
    "        vertex = queue.pop(0)  \n",
    "        if vertex not in visited:\n",
    "            print(vertex, end=\" \")\n",
    "            visited.add(vertex)\n",
    "\n",
    "            for neighbor in graph[vertex]:\n",
    "                if neighbor not in visited:\n",
    "                    queue.append(neighbor)\n",
    "\n",
    "\n",
    "graph = {\n",
    "    'A': ['B', 'C'],\n",
    "    'B': ['D', 'E'],\n",
    "    'C': ['F'],\n",
    "    'D': [],\n",
    "    'E': ['F'],\n",
    "    'F': []\n",
    "}\n",
    "\n",
    "bfs(graph,'A')"
   ]
  },
  {
   "cell_type": "code",
   "execution_count": null,
   "id": "5c2148f7",
   "metadata": {},
   "outputs": [],
   "source": []
  }
 ],
 "metadata": {
  "kernelspec": {
   "display_name": "base",
   "language": "python",
   "name": "python3"
  },
  "language_info": {
   "codemirror_mode": {
    "name": "ipython",
    "version": 3
   },
   "file_extension": ".py",
   "mimetype": "text/x-python",
   "name": "python",
   "nbconvert_exporter": "python",
   "pygments_lexer": "ipython3",
   "version": "3.12.7"
  }
 },
 "nbformat": 4,
 "nbformat_minor": 5
}
