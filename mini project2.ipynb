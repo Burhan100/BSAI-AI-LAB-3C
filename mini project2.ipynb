{
 "cells": [
  {
   "cell_type": "markdown",
   "id": "7592d2c3",
   "metadata": {},
   "source": [
    "# MiniProject 2\n",
    "* In particular we're going to finding the average budget of the films in our data set, and we're going to\n",
    "* identify high budget films that exceed the average budget we calculate.\n",
    "* The brief\n",
    "* Below you'll find a list which contains the relevant data about a selection of movies. Each item in the list\n",
    "* is a tuple containing a movie name and movie budget in that order:\n",
    "* movies = [\n",
    "* (\"Eternal Sunshine of the Spotless Mind\", 20000000),\n",
    "* (\"Memento\", 9000000),\n",
    "* (\"Requiem for a Dream\", 4500000),\n",
    "* (\"Pirates of the Caribbean: On Stranger Tides\", 379000000),\n",
    "* (\"Avengers: Age of Ultron\", 365000000),\n",
    "* (\"Avengers: Endgame\", 356000000),\n",
    "* (\"Incredibles 2\", 200000000)\n",
    "* ]\n",
    "### For this project, your program should do the following:\n",
    "* Calculate the average budget of all movies in the data set.\n",
    "* Print out every movie that has a budget higher than the average you calculated. You should also print out\n",
    "* how much higher than the average the movie's budget was.\n",
    "* Print out how many movies spent more than the average you calculated.\n",
    "* If you want a little extra challenge, allow users to add more movies to the data set before running the\n",
    "* calculations.\n",
    "* You can do this by asking the user how many movies they want to add, which will allow you to use a for\n",
    "* loop and range to repeat some code a given number of times. Inside the for loop, you can write some code\n",
    "* that takes in some user input and appends a movie tuple containing the collected data to the movie list"
   ]
  },
  {
   "cell_type": "code",
   "execution_count": null,
   "id": "ca8e1bde",
   "metadata": {},
   "outputs": [
    {
     "name": "stdout",
     "output_type": "stream",
     "text": [
      "\n",
      "The average budget of all movies is: $963,474,166.58\n",
      "\n",
      "Movies with a budget higher than the average:\n",
      "spider man 2 - Budget: $9,999,999,999.00 (Exceeds average by $9,036,525,832.42)\n",
      "\n",
      "Number of movies with a budget higher than the average: 1\n"
     ]
    }
   ],
   "source": [
    "\n",
    "movies = [\n",
    "    (\"Eternal Sunshine of the Spotless Mind\", 20000000),\n",
    "    (\"Memento\", 9000000),\n",
    "    (\"Requiem for a Dream\", 4500000),\n",
    "    (\"Pirates of the Caribbean: On Stranger Tides\", 379000000),\n",
    "    (\"Avengers: Age of Ultron\", 365000000),\n",
    "    (\"Avengers: Endgame\", 356000000),\n",
    "    (\"Incredibles 2\", 200000000)\n",
    "]\n",
    "\n",
    "num_movies_to_add = int(input(\"How many movies would you like to add? \"))\n",
    "for _ in range(num_movies_to_add):\n",
    "    name = input(\"Enter the movie name: \")\n",
    "    budget = int(input(\"Enter the movie budget: \"))\n",
    "    movies.append((name, budget))\n",
    "\n",
    "total_budget = sum(budget for _, budget in movies)\n",
    "average_budget = total_budget / len(movies)\n",
    "print(f\"\\nThe average budget of all movies is: ${average_budget:,.2f}\")\n",
    "\n",
    "high_budget_movies = []\n",
    "for name, budget in movies:\n",
    "    if budget > average_budget:\n",
    "        high_budget_movies.append((name, budget, budget - average_budget))\n",
    "\n",
    "print(\"\\nMovies with a budget higher than the average:\")\n",
    "for name, budget, difference in high_budget_movies:\n",
    "    print(f\"{name} - Budget: ${budget:,.2f} (Exceeds average by ${difference:,.2f})\")\n",
    "\n",
    "print(f\"\\nNumber of movies with a budget higher than the average: {len(high_budget_movies)}\")"
   ]
  },
  {
   "cell_type": "code",
   "execution_count": null,
   "id": "37fe89bf",
   "metadata": {},
   "outputs": [],
   "source": []
  }
 ],
 "metadata": {
  "kernelspec": {
   "display_name": "Python 3",
   "language": "python",
   "name": "python3"
  },
  "language_info": {
   "codemirror_mode": {
    "name": "ipython",
    "version": 3
   },
   "file_extension": ".py",
   "mimetype": "text/x-python",
   "name": "python",
   "nbconvert_exporter": "python",
   "pygments_lexer": "ipython3",
   "version": "3.10.18"
  }
 },
 "nbformat": 4,
 "nbformat_minor": 5
}
